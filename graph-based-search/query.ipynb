{
 "cells": [
  {
   "cell_type": "code",
   "execution_count": 1,
   "metadata": {},
   "outputs": [
    {
     "name": "stderr",
     "output_type": "stream",
     "text": [
      "/home/t-anthonyp/GraphSearchNet/graph-based-search/utils/data_utils.py:310: SyntaxWarning: invalid escape sequence '\\-'\n",
      "  identifiers = re.split('[._\\-]', identifier)\n",
      "/home/t-anthonyp/GraphSearchNet/graph-based-search/utils/data_utils.py:107: SyntaxWarning: \"is\" with 'int' literal. Did you mean \"==\"?\n",
      "  if n_cores is 1:\n"
     ]
    },
    {
     "name": "stdout",
     "output_type": "stream",
     "text": [
      "/home/t-anthonyp/GraphSearchNet/graph-based-search\n"
     ]
    },
    {
     "name": "stderr",
     "output_type": "stream",
     "text": [
      "/home/t-anthonyp/GraphSearchNet/graph-based-search/graph_gen/build_java_graph.py:291: SyntaxWarning: invalid escape sequence '\\-'\n",
      "  identifiers = re.split('[._\\-]', identifier)\n"
     ]
    },
    {
     "name": "stdout",
     "output_type": "stream",
     "text": [
      "/home/t-anthonyp/GraphSearchNet/graph-based-search/graph_gen\n"
     ]
    },
    {
     "name": "stderr",
     "output_type": "stream",
     "text": [
      "/home/t-anthonyp/GraphSearchNet/graph-based-search/utils/vocab_utils.py:13: SyntaxWarning: invalid escape sequence '\\w'\n",
      "  word_detector = re.compile('\\w')\n"
     ]
    }
   ],
   "source": [
    "from utils.search_engine import *\n",
    "from model_handler_extend import ModelHandlerExtend\n",
    "from main import get_args, get_config\n",
    "import os"
   ]
  },
  {
   "cell_type": "code",
   "execution_count": null,
   "metadata": {},
   "outputs": [],
   "source": [
    "config_path = \"config/search_python.yml\"\n",
    "# cfg = get_args()\n",
    "config = get_config(config_path)"
   ]
  }
 ],
 "metadata": {
  "kernelspec": {
   "display_name": "GraphSearchNet",
   "language": "python",
   "name": "python3"
  },
  "language_info": {
   "codemirror_mode": {
    "name": "ipython",
    "version": 3
   },
   "file_extension": ".py",
   "mimetype": "text/x-python",
   "name": "python",
   "nbconvert_exporter": "python",
   "pygments_lexer": "ipython3",
   "version": "3.12.3"
  }
 },
 "nbformat": 4,
 "nbformat_minor": 2
}
